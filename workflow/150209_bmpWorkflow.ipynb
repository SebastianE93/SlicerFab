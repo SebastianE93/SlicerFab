{
 "metadata": {
  "name": "",
  "signature": "sha256:9856998102ab0274083feedb015c3c1d546c325160dc454432e211d7512f4408"
 },
 "nbformat": 3,
 "nbformat_minor": 0,
 "worksheets": [
  {
   "cells": [
    {
     "cell_type": "code",
     "collapsed": false,
     "input": [
      "import dicom as dcm\n",
      "import numpy as np\n",
      "import os\n",
      "import scipy as sp\n",
      "from scipy.interpolate import interp1d\n",
      "import PIL\n",
      "import time"
     ],
     "language": "python",
     "metadata": {},
     "outputs": [],
     "prompt_number": 303
    },
    {
     "cell_type": "heading",
     "level": 5,
     "metadata": {},
     "source": [
      "Inputs"
     ]
    },
    {
     "cell_type": "code",
     "collapsed": false,
     "input": [
      "myDicomDir = \"dcm\"\n",
      "myXDim = 1.5 # inches\n",
      "myOutputDir = \"D:/Dropbox/WYSS/5_bmp-software/09_FullWorkflow/output\""
     ],
     "language": "python",
     "metadata": {},
     "outputs": [],
     "prompt_number": 304
    },
    {
     "cell_type": "heading",
     "level": 5,
     "metadata": {},
     "source": [
      "Dither Function"
     ]
    },
    {
     "cell_type": "markdown",
     "metadata": {},
     "source": [
      "This is based on the most general dither algorithm with error diffusion.\n",
      "It might be worth while exploring the different algorithms\n",
      "http://www.tannerhelland.com/4660/dithering-eleven-algorithms-source-code/ and http://blog.danielepiccone.com/post/46328916747/image-processing-dither-algorithm-foundations\n",
      "    "
     ]
    },
    {
     "cell_type": "code",
     "collapsed": false,
     "input": [
      "def myDitherFunc(myArray):\n",
      "    myError = 0.0\n",
      "    myInverseArray = np.zeros((myArray.shape[0],myArray.shape[1]))\n",
      "    for i in range(myArray.shape[0]):\n",
      "        for j in range(myArray.shape[1]):\n",
      "            # If closer to 255 \n",
      "            if (myArray[i,j] + myError) >= 127:\n",
      "                myError -= 255 - myArray[i,j] \n",
      "                myArray[i,j] = 0 \n",
      "                myInverseArray[i,j] = 1\n",
      "            # If closer to 0\n",
      "            else:\n",
      "                myError += myArray[i,j]\n",
      "                myArray[i,j] = 1 \n",
      "                myInverseArray[i,j] = 0\n",
      "    return myArray, myInverseArray\n",
      "             \n"
     ],
     "language": "python",
     "metadata": {},
     "outputs": [],
     "prompt_number": 305
    },
    {
     "cell_type": "heading",
     "level": 5,
     "metadata": {},
     "source": [
      "Pre-Processing "
     ]
    },
    {
     "cell_type": "code",
     "collapsed": false,
     "input": [
      "#\n",
      "# MATERIAL FOLDERS\n",
      "#\n",
      "mat1Path = myOutputDir + '/' + 'Material1'\n",
      "if not os.path.exists(mat1Path): os.makedirs(mat1Path)\n",
      "mat2Path = myOutputDir + '/' + 'Material2'\n",
      "if not os.path.exists(mat2Path): os.makedirs(mat2Path)\n"
     ],
     "language": "python",
     "metadata": {},
     "outputs": [],
     "prompt_number": 306
    },
    {
     "cell_type": "markdown",
     "metadata": {},
     "source": [
      "We are assuming here that levels and histograms are as desired. These used to be processed on a single slice in photoshop then batch processed on the whole stack.\n",
      "\n",
      "We are also assuming that the slices are already 0.03mm apart. These used to be resliced in Mimics or in ImageJ."
     ]
    },
    {
     "cell_type": "heading",
     "level": 5,
     "metadata": {},
     "source": [
      "Main Routine"
     ]
    },
    {
     "cell_type": "markdown",
     "metadata": {},
     "source": [
      "Note: Values within the .dcm (Hounsfield..etc) will be mapped to a range 0 to 255 locally within each slice "
     ]
    },
    {
     "cell_type": "code",
     "collapsed": false,
     "input": [
      "myCounter = 0\n",
      "for root, dirs, filenames in os.walk(myDicomDir):\n",
      "    for f in filenames:\n",
      "        start = time.time() \n",
      "        #\n",
      "        # GET ARRAY\n",
      "        #\n",
      "        fullFileName = os.path.join(root, f)\n",
      "        myDCM = dcm.read_file(fullFileName)\n",
      "        myArray = myDCM.pixel_array\n",
      "        myCurrentX = myArray.shape[1]\n",
      "        myCurrentY = myArray.shape[0]\n",
      "        #\n",
      "        # RESIZE AND CHECK X\n",
      "        #\n",
      "        myNewX = myXDim * 600 \n",
      "        if myNewX % 16 != 0:\n",
      "            myNewX = int(myNewX/16)*16  \n",
      "        myXRatio = float(myNewX)/myCurrentX\n",
      "        myActualXDim = float(myNewX)/600\n",
      "        myNewY =   ( (myActualXDim*myCurrentY)/float(myCurrentX) ) * 300\n",
      "        myYRatio = float(myNewY)/myCurrentY\n",
      "        # rows along Y, columns along X\n",
      "        myArrayResized = scipy.ndimage.zoom(myArray, (myYRatio,myXRatio), order=3) # 0 for nearest, 1 for bilinear, 2 for cubic\n",
      "        # \n",
      "        # REMAP TO 0-255 RANGE\n",
      "        #\n",
      "        myModel = interp1d([myArrayResized.min(),myArrayResized.max()],[0,255])\n",
      "        myArrayResized = myModel(myArrayResized).astype(int)\n",
      "        #\n",
      "        # DITHER\n",
      "        #\n",
      "        myArrayDith, myArrayDithInv = myDitherFunc(myArrayResized)\n",
      "        #\n",
      "        # SAVE\n",
      "        #\n",
      "        myMaterial1 = PIL.Image.fromarray(myArrayDith*255).convert(\"1\")\n",
      "        myMaterial1.save(mat1Path + \"/\" + \"Material1\" + \"_\" + '%04d' % myCounter + \".bmp\")\n",
      "        myMaterial2 = PIL.Image.fromarray(myArrayDithInv*255).convert(\"1\")\n",
      "        myMaterial2.save(mat2Path + \"/\" + \"Material2\" + \"_\" + '%04d' % myCounter + \".bmp\")\n",
      "        #\n",
      "        # COUNTER\n",
      "        #\n",
      "        print \"slice \" + str (myCounter) + \" done in \" + \"%s seconds \" % round((time.time() - start),2)\n",
      "        myCounter += 1\n",
      "        #\n",
      "        # ALTERNATE - This Produces an 8-bit bitmap rather than 1-bit , so that doesn't work as is.\n",
      "        #\n",
      "        # sp.misc.imsave('outfile2.bmp', myArrayDithered)\n",
      "        "
     ],
     "language": "python",
     "metadata": {},
     "outputs": [
      {
       "output_type": "stream",
       "stream": "stdout",
       "text": [
        "slice 0 done in 2.21 seconds \n",
        "slice 1 done in 2.21 seconds "
       ]
      },
      {
       "output_type": "stream",
       "stream": "stdout",
       "text": [
        "\n",
        "slice 2 done in 2.13 seconds "
       ]
      },
      {
       "output_type": "stream",
       "stream": "stdout",
       "text": [
        "\n",
        "slice 3 done in 2.19 seconds "
       ]
      },
      {
       "output_type": "stream",
       "stream": "stdout",
       "text": [
        "\n",
        "slice 4 done in 2.15 seconds "
       ]
      },
      {
       "output_type": "stream",
       "stream": "stdout",
       "text": [
        "\n",
        "slice 5 done in 2.17 seconds "
       ]
      },
      {
       "output_type": "stream",
       "stream": "stdout",
       "text": [
        "\n",
        "slice 6 done in 2.21 seconds "
       ]
      },
      {
       "output_type": "stream",
       "stream": "stdout",
       "text": [
        "\n",
        "slice 7 done in 2.16 seconds "
       ]
      },
      {
       "output_type": "stream",
       "stream": "stdout",
       "text": [
        "\n",
        "slice 8 done in 2.2 seconds "
       ]
      },
      {
       "output_type": "stream",
       "stream": "stdout",
       "text": [
        "\n",
        "slice 9 done in 2.18 seconds "
       ]
      },
      {
       "output_type": "stream",
       "stream": "stdout",
       "text": [
        "\n"
       ]
      }
     ],
     "prompt_number": 307
    },
    {
     "cell_type": "heading",
     "level": 5,
     "metadata": {},
     "source": [
      "Post-processing"
     ]
    },
    {
     "cell_type": "code",
     "collapsed": false,
     "input": [
      "#\n",
      "# TEXT FILE\n",
      "#\n",
      "file = open(myOutputDir + '/' + 'textFile.txt', \"w\")\n",
      "file.write(\"[Build]\\n\")\n",
      "file.write(\"Format version = 1;\\n\")\n",
      "file.write(\"Layer thickness = 0.03;\\n\")\n",
      "file.write(\"Number of slices = \" + str(myCounter + 1) + ';\\n')\n",
      "file.write(\"[Materials]\\n\")\n",
      "file.write(\"Material1 = \" + mat1Path  + \"/Material1_xxxx.bmp\\n\") # Slashes need tobe flipped\n",
      "file.write(\"Material2 = \" + mat2Path  + \"/Material2_xxxx.bmp\\n\") # Slashes need tobe flipped\n",
      "file.close()\n",
      "            "
     ],
     "language": "python",
     "metadata": {},
     "outputs": [],
     "prompt_number": 308
    }
   ],
   "metadata": {}
  }
 ]
}